{
  "nbformat": 4,
  "nbformat_minor": 0,
  "metadata": {
    "colab": {
      "provenance": []
    },
    "kernelspec": {
      "name": "python3",
      "display_name": "Python 3"
    },
    "language_info": {
      "name": "python"
    }
  },
  "cells": [
    {
      "cell_type": "markdown",
      "source": [
        "### DECK GENERATION AND HAND DISTRIBUTION"
      ],
      "metadata": {
        "id": "YxMQo3WDaN3y"
      }
    },
    {
      "cell_type": "code",
      "execution_count": null,
      "metadata": {
        "colab": {
          "base_uri": "https://localhost:8080/"
        },
        "id": "GQSngkQcXxJI",
        "outputId": "d1ad4ba8-b120-4439-c4da-35f36d37405b"
      },
      "outputs": [
        {
          "output_type": "stream",
          "name": "stdout",
          "text": [
            "[['SK', 'C3', 'DJ', 'C7', 'H8', 'C10', 'CK', 'D5', 'S5', 'C9', 'H5'], ['H7', 'DQ', 'HA', 'H6', 'S6', 'S7', 'S2', 'C6', 'D9', 'D4', 'D2'], ['SJ', 'CQ', 'D3', 'H10', 'S4', 'S10', 'CJ', 'HQ', 'H4', 'D7'], ['CA', 'DK', 'C8', 'H3', 'C2', 'H2', 'S8', 'S9', 'C5', 'HJ'], ['D6', 'DA', 'C4', 'H9', 'SA', 'D8', 'HK', 'SQ', 'S3', 'D10']]\n"
          ]
        }
      ],
      "source": [
        "def generate_deck()->list:\n",
        "    # donot hard code this function.\n",
        "    # S2,S3, ... SA,H2,H3,...,HA,C2,C3,...,CA,D2,D3,...,DA in the same order\n",
        "    ranks = ['2', '3', '4', '5', '6', '7', '8', '9', '10', 'J', 'Q', 'K', 'A']\n",
        "    suits = ['S', 'H', 'C', 'D']\n",
        "    deck = []\n",
        "    for suit in suits:\n",
        "      for rank in ranks:\n",
        "        card = suit + rank;\n",
        "        deck.append(card);\n",
        "    return deck\n",
        "\n",
        "cards = generate_deck()\n",
        "n_hands = 5\n",
        "import random\n",
        "random.seed(5)\n",
        "random.shuffle(cards)\n",
        "# make sure that generate deck generate the deck in the given order and use the above random seed for shuffling.\n",
        "\n",
        "\n",
        "def distribute_cards(cards:list,n_hands:int)-> list[list]:\n",
        "    # cards distributed one by one starting from index 0 going in circles.\n",
        "    hands = [[] for _ in range(n_hands)]  # Create empty lists for each hand\n",
        "\n",
        "    # Distribute cards one by one in a circular manner\n",
        "    current_hand = 0\n",
        "    for i, card in enumerate(cards):\n",
        "        hands[current_hand].append(card)  # Add the current card to the current hand\n",
        "        current_hand = (current_hand + 1) % n_hands  # Move to the next hand in a circular fashion\n",
        "\n",
        "    return hands\n",
        "\n",
        "hands = distribute_cards(cards, n_hands)\n",
        "print(hands)\n"
      ]
    },
    {
      "cell_type": "markdown",
      "source": [
        "### PLAYING A ROUND"
      ],
      "metadata": {
        "id": "FZXBKbyraWa3"
      }
    },
    {
      "cell_type": "code",
      "source": [
        "def play_hand(hand: list, cards_on_the_table: list) -> bool:\n",
        "    if not hand:\n",
        "        raise ValueError(\"Hand is empty. Cannot play a card.\")\n",
        "\n",
        "    # Sort the hand to prioritize playing the smallest card of the same suit if possible\n",
        "    sorted_hand = sorted(hand, key=lambda x: (get_card_value(x), x[-1]))\n",
        "\n",
        "    # Determine the suit of the starting card on the table (if any)\n",
        "    starting_suit = cards_on_the_table[0][-1] if cards_on_the_table else None\n",
        "\n",
        "    # Try to play the smallest card of the same suit as the starting suit (if available)\n",
        "    for card in sorted_hand:\n",
        "        if starting_suit and card[-1] == starting_suit:\n",
        "            hand.remove(card)\n",
        "            cards_on_the_table.append(card)\n",
        "            return False  # Not collecting cards in this case\n",
        "\n",
        "    # If no card of the same suit can be played, play the highest card in any suit\n",
        "    highest_card = max(sorted_hand, key=lambda x: (get_card_value(x), x[-1]))\n",
        "    hand.remove(highest_card)\n",
        "    cards_on_the_table.append(highest_card)\n",
        "    return True  # Collecting cards in this case\n",
        "\n",
        "def get_card_value(card: str) -> int:\n",
        "    rank = card[:-1]\n",
        "    if rank.isdigit():\n",
        "        return int(rank)\n",
        "    elif rank == 'A':\n",
        "        return 14\n",
        "    elif rank == 'K':\n",
        "        return 13\n",
        "    elif rank == 'Q':\n",
        "        return 12\n",
        "    elif rank == 'J':\n",
        "        return 11\n",
        "\n",
        "def play_round(hands: list[list], starting_player: int) -> int:\n",
        "    cards_on_the_table = []\n",
        "    current_player = starting_player\n",
        "    while True:\n",
        "        hand = hands[current_player]\n",
        "        collecting_cards = play_hand(hand, cards_on_the_table)\n",
        "        if collecting_cards:\n",
        "            # Collect cards from the table to current player's hand\n",
        "            hands[current_player].extend(cards_on_the_table)\n",
        "            break\n",
        "        current_player = (current_player + 1) % len(hands)\n",
        "    return (starting_player + 1) % len(hands)\n",
        "\n",
        "def n_remaining(hands):\n",
        "    return sum(map(lambda x: len(x)>0,hands))\n"
      ],
      "metadata": {
        "id": "qg2pTuFFdOzB"
      },
      "execution_count": null,
      "outputs": []
    },
    {
      "cell_type": "markdown",
      "source": [
        "### ACTUAL GAME STARTS"
      ],
      "metadata": {
        "id": "Nn4gsWQnd4Fe"
      }
    },
    {
      "cell_type": "code",
      "source": [
        "def play_game(hands: list[list]) -> tuple:\n",
        "    # Find the starting player based on the hand with the \"SA\" (Ace of Spades) card\n",
        "    starting_player = None\n",
        "    for i, hand in enumerate(hands):\n",
        "        if \"SA\" in hand:\n",
        "            starting_player = i\n",
        "            break\n",
        "    if starting_player is None:\n",
        "        raise ValueError(\"No player has the Ace of Spades (SA) card.\")\n",
        "\n",
        "    current_player = starting_player\n",
        "    while n_remaining(hands) > 1:\n",
        "        current_player = play_round(hands, current_player)\n",
        "\n",
        "    loser = next(i for i, hand in enumerate(hands) if hand)\n",
        "    return loser, hand\n",
        "\n",
        "loser, hand = play_game(hands)\n",
        "print(loser,hand)"
      ],
      "metadata": {
        "id": "AocNDLNwd659"
      },
      "execution_count": null,
      "outputs": []
    }
  ]
}